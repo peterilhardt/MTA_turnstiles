{
 "cells": [
  {
   "cell_type": "code",
   "execution_count": 1,
   "metadata": {},
   "outputs": [],
   "source": [
    "import pandas as pd\n",
    "import numpy as np\n",
    "import matplotlib.pyplot as plt\n",
    "from datetime import date\n",
    "from datetime import time\n",
    "from datetime import datetime\n",
    "from datetime import timedelta\n"
   ]
  },
  {
   "cell_type": "code",
   "execution_count": 2,
   "metadata": {},
   "outputs": [
    {
     "name": "stdout",
     "output_type": "stream",
     "text": [
      "1\n",
      "2\n",
      "3\n",
      "4\n",
      "5\n",
      "6\n",
      "7\n",
      "8\n"
     ]
    }
   ],
   "source": [
    "frames = []\n",
    "start = datetime(2019,6,22)\n",
    "count = 1\n",
    "while count <= 8:\n",
    "    df = pd.read_csv(\"http://web.mta.info/developers/data/nyct/turnstile/turnstile_\"+\n",
    "                    ((start-timedelta(days=7)).strftime(\"%y%m%d\"))+\".txt\")\n",
    "    frames.append(df)\n",
    "    start = (start-timedelta(days=7))\n",
    "    count += 1\n",
    "    print(len(frames))"
   ]
  },
  {
   "cell_type": "code",
   "execution_count": 3,
   "metadata": {},
   "outputs": [
    {
     "name": "stdout",
     "output_type": "stream",
     "text": [
      "<class 'pandas.core.frame.DataFrame'>\n",
      "Int64Index: 1640586 entries, 0 to 203856\n",
      "Data columns (total 11 columns):\n",
      "C/A                                                                     1640586 non-null object\n",
      "UNIT                                                                    1640586 non-null object\n",
      "SCP                                                                     1640586 non-null object\n",
      "STATION                                                                 1640586 non-null object\n",
      "LINENAME                                                                1640586 non-null object\n",
      "DIVISION                                                                1640586 non-null object\n",
      "DATE                                                                    1640586 non-null object\n",
      "TIME                                                                    1640586 non-null object\n",
      "DESC                                                                    1640586 non-null object\n",
      "ENTRIES                                                                 1640586 non-null int64\n",
      "EXITS                                                                   1640586 non-null int64\n",
      "dtypes: int64(2), object(9)\n",
      "memory usage: 150.2+ MB\n"
     ]
    }
   ],
   "source": [
    "df = pd.concat(frames)\n",
    "df.info()\n",
    "df.to_pickle(\"data_import.pickle\")"
   ]
  },
  {
   "cell_type": "code",
   "execution_count": null,
   "metadata": {},
   "outputs": [],
   "source": []
  }
 ],
 "metadata": {
  "kernelspec": {
   "display_name": "metis",
   "language": "python",
   "name": "metis"
  },
  "language_info": {
   "codemirror_mode": {
    "name": "ipython",
    "version": 3
   },
   "file_extension": ".py",
   "mimetype": "text/x-python",
   "name": "python",
   "nbconvert_exporter": "python",
   "pygments_lexer": "ipython3",
   "version": "3.7.3"
  }
 },
 "nbformat": 4,
 "nbformat_minor": 2
}
